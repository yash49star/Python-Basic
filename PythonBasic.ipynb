{
  "nbformat": 4,
  "nbformat_minor": 0,
  "metadata": {
    "colab": {
      "provenance": []
    },
    "kernelspec": {
      "name": "python3",
      "display_name": "Python 3"
    },
    "language_info": {
      "name": "python"
    }
  },
  "cells": [
    {
      "cell_type": "markdown",
      "source": [
        "Python Basics Questions\n",
        "\n",
        "Q.1 What is python, and why is it popular?\n",
        "  - Python is a programming language that is easy to understand and write by Guido van Rossum in the year of 1991. It is compatible with various programming paradigms, such as procedural, object-oriented, and functional programming.\n",
        "  - Python has a large and active community of developers, an extensive standard library, and third-party packages for various domains, making it a popular choice among developers and programmers.\n",
        "\n",
        "Q.2 What is an interpreter in Python?\n",
        "- Python is a interpreted programming language, an interpreter is a program that reads and executes Python code line by line, translating it into machine-readable instructions and then executing them.\n",
        "\n",
        "Q.3 What are pre-defined keywords in python?\n",
        "- Keywords are reserved words in Python that have special meanings and cannot be used as identifiers (variable names, function names, etc.).\n",
        "- Examples of keywords include if, else, while, for, def, class, import, try, except, return, True, False, None, etc.\n",
        "- Keywords are case-sensitive and cannot be redefined or overridden within a Python program.\n",
        "\n",
        "Q.4 Can keywords be used as variable names?\n",
        "- Keywords are reserved words in Python that have special meanings and cannot be used as identifiers (variable names, function names, etc.).\n",
        "\n",
        "Q.5 What is mutability in python?\n",
        "- In Python, objects can be either changeable (modifiable) or unchangeable (unchangeable). Mutable objects, such as lists and dictionaries, can be modified after creation, while immutable objects, such as tuples and strings, cannot.\n",
        "\n",
        "Q.6 Why are lists mutable, but tuples are immutable?\n",
        "- Lists and tuples are the same in every way except two: tuples use parentheses instead of square brackets, and the items in tuples cannot be modified (but the items in lists can be modified). We often call lists mutable (meaning they can be changed) and tuples immutable (meaning they cannot be changed).\n",
        "\n",
        "Q.7 What is the difference between\"==\" and \"is\" operators in Python?\n",
        "- Comperasion operaton, Equal \"==\" used for comparision between two value or varables whereas \"is\" is an identity operator which returns \"True\" if both variables are the same object otherwise reture \"False\".\n",
        "\n",
        "Q.8  What are logical operators in Python?\n",
        "- Logical operators are used to combine conditional statements. There are Three types of logical operators \"and\", \"or\" and \"not\".\n",
        "- Logical operator \"and\" return the Ture if both statement are True, \"or\" operator return True if any one statemet is True whereas \"not\" operator revers the value from True to False and From False to True.\n",
        "\n",
        "Q.9 What is type casting in Python?\n",
        "- Type casting, also referred to as type conversion, is the process of changing one data type to another in Python.\n",
        "\n",
        "Q.10  What is the diffrence between implicit and explicit type casting?\n",
        "- Implicit type casting is performed by the Python itself where python understand and cast the data type of the varable and whereas in Explicit type casting conversion performed by the user with the help of built-in function for type casting, such as int(), float(), str(), list(), tuple(), dict(), etc.\n",
        "\n",
        "Q.11  What is the purpose of conditional statement in Python?\n",
        "- Conditionals in Python are used to execute code based on the evaluation of one or more conditions.\n",
        "- Python supports conditional statements such as if, elif (else if), and else to control the flow of execution.\n",
        "- Conditionals can be nested to handle multiple conditions and control different branches of execution based on the outcome of logical expressions.\n",
        "\n",
        "Q.12  How does the elif statement work?\n",
        "- elif statement used along with conditional statement to represent multiple conditions.\n",
        "\n",
        "Q.13  What is the difference between for and while loops?\n",
        "-  The \"for loop\" has defined number of loop which has defined by the programmer and increment or decrement of varable that present in for loop performed by \"for loop\" itself.\n",
        "-  whereas in \"while loop\" a conditional statement has to be define, the loop continues until the condition becomes False.\n",
        "\n",
        "Q.14  Describe a scenario where a while loop is more suitable than a for loop.\n",
        "- In contrast to a 'for' loop, which is generally used when the number of iterations is known beforehand, a 'while' loop is ideal for situations where the number of iterations is not predetermined and depends on some dynamic condition.\n",
        "- If we need to check whethere e-mail address has \"@\" symbol in the e-mail id entered by the user and the loop will continue till the user entered the e-mail id wiht \"@\" symbol in this scenario \"while\" loop is more suitable than a \"for\" loop."
      ],
      "metadata": {
        "id": "Y_W9MvEeOvbc"
      }
    },
    {
      "cell_type": "code",
      "source": [
        "# Practical Questions\n",
        "# Q 1. Write a Python program to print \"Hello, World!\"\n",
        "print(\"Hello, World!\")"
      ],
      "metadata": {
        "colab": {
          "base_uri": "https://localhost:8080/"
        },
        "id": "CBE_a42SgvEv",
        "outputId": "8b6b2ee7-d942-4f12-d09b-b7f986fad8f5"
      },
      "execution_count": null,
      "outputs": [
        {
          "output_type": "stream",
          "name": "stdout",
          "text": [
            "Hello, World!\n"
          ]
        }
      ]
    },
    {
      "cell_type": "code",
      "source": [
        "# Q 2. Write a Python program that displays your name and age.\n",
        "name = input(\"Enter your name. \")\n",
        "age = int(input(\"Enter your age.\"))\n",
        "print(f\"Your Name = {name} \\n Your Age = {age}\")"
      ],
      "metadata": {
        "colab": {
          "base_uri": "https://localhost:8080/"
        },
        "id": "sAbvbHHphYdd",
        "outputId": "c63b7c6a-42a4-4573-d12c-852dfe7dfebd"
      },
      "execution_count": null,
      "outputs": [
        {
          "output_type": "stream",
          "name": "stdout",
          "text": [
            "Enter your name. Yash\n",
            "Enter your age.29\n",
            "Your Name = Yash \n",
            " Your Age = 29\n"
          ]
        }
      ]
    },
    {
      "cell_type": "code",
      "source": [
        "# Q 3. Write code to print all the pre-defined keywords in python using the keyword library.\n",
        "import keyword\n",
        "keyword.kwlist"
      ],
      "metadata": {
        "colab": {
          "base_uri": "https://localhost:8080/"
        },
        "id": "BYsdHBviiOAE",
        "outputId": "0fc040aa-e7d7-4178-f7f8-f0859dc5cb53"
      },
      "execution_count": 4,
      "outputs": [
        {
          "output_type": "execute_result",
          "data": {
            "text/plain": [
              "['False',\n",
              " 'None',\n",
              " 'True',\n",
              " 'and',\n",
              " 'as',\n",
              " 'assert',\n",
              " 'async',\n",
              " 'await',\n",
              " 'break',\n",
              " 'class',\n",
              " 'continue',\n",
              " 'def',\n",
              " 'del',\n",
              " 'elif',\n",
              " 'else',\n",
              " 'except',\n",
              " 'finally',\n",
              " 'for',\n",
              " 'from',\n",
              " 'global',\n",
              " 'if',\n",
              " 'import',\n",
              " 'in',\n",
              " 'is',\n",
              " 'lambda',\n",
              " 'nonlocal',\n",
              " 'not',\n",
              " 'or',\n",
              " 'pass',\n",
              " 'raise',\n",
              " 'return',\n",
              " 'try',\n",
              " 'while',\n",
              " 'with',\n",
              " 'yield']"
            ]
          },
          "metadata": {},
          "execution_count": 4
        }
      ]
    },
    {
      "cell_type": "code",
      "source": [
        "# Q 4. Write a program that checks if a given word is a python keyword.\n",
        "kw = input(\"Enter any keyword to enter.\")\n",
        "if kw in keyword.kwlist:\n",
        "  print(f\"{kw} is keyword in Python.\")\n",
        "else:\n",
        "  print(f\"{kw} is not keyword in Python\")"
      ],
      "metadata": {
        "colab": {
          "base_uri": "https://localhost:8080/"
        },
        "id": "u4awd2txL3-V",
        "outputId": "d1d4163e-bc7a-4dda-86ad-34dd32b1d5ac"
      },
      "execution_count": 9,
      "outputs": [
        {
          "output_type": "stream",
          "name": "stdout",
          "text": [
            "Enter any keyword to enter.dfs\n",
            "dfs is not keyword in Python\n"
          ]
        }
      ]
    },
    {
      "cell_type": "code",
      "source": [
        "# Q 5. Create a list and tuple in python, and demonstrate how attempting to change\n",
        "#an ellement works differently for each.\n",
        "\n",
        "lis = [\"atharv\",12,55,102.55,True] # A List\n",
        "tup = (\"atharv\",12,55,102.55,True) # A Tuple\n",
        "lis[2] = 66     # Assignment index '2' to 66 of a list.\n",
        "tup[2] = 66     # Assignemnt index '2' to 66 of a tuple.\n",
        "print(lis)\n",
        "print(tup)\n"
      ],
      "metadata": {
        "colab": {
          "base_uri": "https://localhost:8080/",
          "height": 216
        },
        "id": "GmYwDDylRtRA",
        "outputId": "dae5ae41-ceda-44e3-ef8f-bb5cf2af6e62"
      },
      "execution_count": 17,
      "outputs": [
        {
          "output_type": "error",
          "ename": "TypeError",
          "evalue": "'tuple' object does not support item assignment",
          "traceback": [
            "\u001b[0;31m---------------------------------------------------------------------------\u001b[0m",
            "\u001b[0;31mTypeError\u001b[0m                                 Traceback (most recent call last)",
            "\u001b[0;32m<ipython-input-17-a45b8228046f>\u001b[0m in \u001b[0;36m<cell line: 0>\u001b[0;34m()\u001b[0m\n\u001b[1;32m      5\u001b[0m \u001b[0mtup\u001b[0m \u001b[0;34m=\u001b[0m \u001b[0;34m(\u001b[0m\u001b[0;34m\"atharv\"\u001b[0m\u001b[0;34m,\u001b[0m\u001b[0;36m12\u001b[0m\u001b[0;34m,\u001b[0m\u001b[0;36m55\u001b[0m\u001b[0;34m,\u001b[0m\u001b[0;36m102.55\u001b[0m\u001b[0;34m,\u001b[0m\u001b[0;32mTrue\u001b[0m\u001b[0;34m)\u001b[0m \u001b[0;31m# A Tuple\u001b[0m\u001b[0;34m\u001b[0m\u001b[0;34m\u001b[0m\u001b[0m\n\u001b[1;32m      6\u001b[0m \u001b[0mlis\u001b[0m\u001b[0;34m[\u001b[0m\u001b[0;36m2\u001b[0m\u001b[0;34m]\u001b[0m \u001b[0;34m=\u001b[0m \u001b[0;36m66\u001b[0m     \u001b[0;31m# Assignment index '2' to 66 of a list.\u001b[0m\u001b[0;34m\u001b[0m\u001b[0;34m\u001b[0m\u001b[0m\n\u001b[0;32m----> 7\u001b[0;31m \u001b[0mtup\u001b[0m\u001b[0;34m[\u001b[0m\u001b[0;36m2\u001b[0m\u001b[0;34m]\u001b[0m \u001b[0;34m=\u001b[0m \u001b[0;36m66\u001b[0m     \u001b[0;31m# Assignemnt index '2' to 66 of a tuple.\u001b[0m\u001b[0;34m\u001b[0m\u001b[0;34m\u001b[0m\u001b[0m\n\u001b[0m\u001b[1;32m      8\u001b[0m \u001b[0mprint\u001b[0m\u001b[0;34m(\u001b[0m\u001b[0mlis\u001b[0m\u001b[0;34m)\u001b[0m\u001b[0;34m\u001b[0m\u001b[0;34m\u001b[0m\u001b[0m\n\u001b[1;32m      9\u001b[0m \u001b[0mprint\u001b[0m\u001b[0;34m(\u001b[0m\u001b[0mtup\u001b[0m\u001b[0;34m)\u001b[0m\u001b[0;34m\u001b[0m\u001b[0;34m\u001b[0m\u001b[0m\n",
            "\u001b[0;31mTypeError\u001b[0m: 'tuple' object does not support item assignment"
          ]
        }
      ]
    },
    {
      "cell_type": "code",
      "source": [
        "# Q 6. Write a function to demonstrate the behavior of mutable and immutable arguments.\n",
        "def modify_arguments(my_list, my_string):\n",
        "  \"\"\"Demonstrates the behavior of mutable and immutable arguments.\n",
        "\n",
        "  Args:\n",
        "    my_list: A list that will be modified inside the function.\n",
        "    my_string: A string that will be modified inside the function.\n",
        "  \"\"\"\n",
        "\n",
        "  my_list.append(4)  # Modifies the original list (mutable)\n",
        "  my_string += \" world\"  # Creates a new string object (immutable)\n",
        "\n",
        "  print(\"Inside the function:\")\n",
        "  print(\"my_list:\", my_list)\n",
        "  print(\"my_string:\", my_string)\n",
        "\n",
        "\n",
        "# Create a list and a string\n",
        "my_list = [1, 2, 3]\n",
        "my_string = \"Hello\"\n",
        "\n",
        "# Call the function\n",
        "modify_arguments(my_list, my_string)\n",
        "\n",
        "# Check if the list and string were modified outside the function\n",
        "print(\"\\nOutside the function:\")\n",
        "print(\"my_list:\", my_list)  # The list has been modified\n",
        "print(\"my_string:\", my_string) # The string remains unchanged\n"
      ],
      "metadata": {
        "id": "ScbfHyODTWaz"
      },
      "execution_count": null,
      "outputs": []
    },
    {
      "cell_type": "code",
      "source": [
        "# Q 7. Write a function to demonstrate the behavior of mutable and immutable arguments.\n",
        "\n",
        "def modify_arguments(my_list, my_string):\n",
        "  \"\"\"Demonstrates the behavior of mutable and immutable arguments.\n",
        "\n",
        "  Args:\n",
        "    my_list: A list that will be modified inside the function.\n",
        "    my_string: A string that will be modified inside the function.\n",
        "  \"\"\"\n",
        "\n",
        "  my_list.append(4)  # Modifies the original list (mutable)\n",
        "  my_string += \" world\"  # Creates a new string object (immutable)\n",
        "\n",
        "  print(\"Inside the function:\")\n",
        "  print(\"my_list:\", my_list)\n",
        "  print(\"my_string:\", my_string)\n",
        "\n",
        "\n",
        "# Create a list and a string\n",
        "my_list = [1, 2, 3]\n",
        "my_string = \"Hello\"\n",
        "\n",
        "# Call the function\n",
        "modify_arguments(my_list, my_string)\n",
        "\n",
        "# Check if the list and string were modified outside the function\n",
        "print(\"\\nOutside the function:\")\n",
        "print(\"my_list:\", my_list)  # The list has been modified\n",
        "print(\"my_string:\", my_string) # The string remains unchanged\n"
      ],
      "metadata": {
        "colab": {
          "base_uri": "https://localhost:8080/"
        },
        "id": "qJdhvioJUaRX",
        "outputId": "1f4e93a9-b25e-47a1-cfb1-4eb730d134db"
      },
      "execution_count": 26,
      "outputs": [
        {
          "output_type": "stream",
          "name": "stdout",
          "text": [
            "Inside the function:\n",
            "my_list: [1, 2, 3, 4]\n",
            "my_string: Hello world\n",
            "\n",
            "Outside the function:\n",
            "my_list: [1, 2, 3, 4]\n",
            "my_string: Hello\n"
          ]
        }
      ]
    },
    {
      "cell_type": "code",
      "source": [
        "# Q 8. Write a program demonstrate the use of logical operators.\n",
        "\n",
        "# Example: Logical Operators (AND, OR, NOT) with generic variables\n",
        "a, b, c = True, False, True\n",
        "#AND: Both conditions must be True\n",
        "if a and c:\n",
        "    print(\"Both a and c are True (AND condition).\")\n",
        "\n",
        "# OR: At least one condition must be True\n",
        "if b or c:\n",
        "    print(\"Either b or c is True (OR condition).\")\n",
        "\n",
        "# NOT: Reverses the condition\n",
        "if not b:\n",
        "    print(\"b is False (NOT condition).\")\n"
      ],
      "metadata": {
        "colab": {
          "base_uri": "https://localhost:8080/"
        },
        "id": "rpuwaopEWJNz",
        "outputId": "8fc91306-580b-4fc8-9301-b68f4aecdce1"
      },
      "execution_count": 27,
      "outputs": [
        {
          "output_type": "stream",
          "name": "stdout",
          "text": [
            "Both a and c are True (AND condition).\n",
            "Either b or c is True (OR condition).\n",
            "b is False (NOT condition).\n"
          ]
        }
      ]
    },
    {
      "cell_type": "code",
      "source": [
        "# Q. 9 Write a Python program to convert user input from string to integer,float, and boolean types.\n",
        "x = input(\"Enter any value: \")\n",
        "\n",
        "try:\n",
        "  integer_x = int(x)\n",
        "  print(\"Integer:\", integer_x)\n",
        "except ValueError:\n",
        "  print(\"Cannot convert to integer.\")\n",
        "\n",
        "try:\n",
        "  float_x = float(x)\n",
        "  print(\"Float:\", float_x)\n",
        "except ValueError:\n",
        "  print(\"Cannot convert to float.\")\n",
        "\n",
        "try:\n",
        "  if x.lower() == 'true':\n",
        "    boolean_x = True\n",
        "  elif x.lower() == 'false':\n",
        "    boolean_x = False\n",
        "  else:\n",
        "    raise ValueError\n",
        "  print(\"Boolean:\", boolean_x)\n",
        "except ValueError:\n",
        "  print(\"Cannot convert to boolean.\")"
      ],
      "metadata": {
        "id": "CmTwaK54cqi8"
      },
      "execution_count": null,
      "outputs": []
    },
    {
      "cell_type": "code",
      "source": [
        "# Q 10. Write code to demonstrate type casting with list element.\n",
        "lis = [\"atharv\", 66.5, 55, True]\n",
        "print(type(lis[2]))\n",
        "print(lis)\n",
        "lis = [str(item) for item in lis]\n",
        "print(lis)\n",
        "print(type(lis[2]))"
      ],
      "metadata": {
        "colab": {
          "base_uri": "https://localhost:8080/"
        },
        "id": "nhl9pSZtcu88",
        "outputId": "326f69b9-49cd-4545-9596-f64e1fc419e1"
      },
      "execution_count": 33,
      "outputs": [
        {
          "output_type": "stream",
          "name": "stdout",
          "text": [
            "<class 'int'>\n",
            "['atharv', 66.5, 55, True]\n",
            "['atharv', '66.5', '55', 'True']\n",
            "<class 'str'>\n"
          ]
        }
      ]
    },
    {
      "cell_type": "code",
      "source": [
        "# Q 11. Write a program that check if a number is positive, negative or zero.\n",
        "num = int(input(\"Enter any Number\"))\n",
        "if num < 0:\n",
        "  print(f\"The number {num} is negative.\")\n",
        "if num > 0:\n",
        "  print(f\"The number {num} is positive.\")\n",
        "if num == 0:\n",
        "  print(f\"The number {num} is zero.\")"
      ],
      "metadata": {
        "colab": {
          "base_uri": "https://localhost:8080/"
        },
        "id": "CQcaMVsCjIMi",
        "outputId": "74d7c620-70d4-48dd-92bf-e99dcf1e1280"
      },
      "execution_count": 39,
      "outputs": [
        {
          "output_type": "stream",
          "name": "stdout",
          "text": [
            "Enter any Number-44\n",
            "The number -44 is negative.\n"
          ]
        }
      ]
    },
    {
      "cell_type": "code",
      "source": [
        "# Q 12. Write a for loop to print numbers from 1 to 10.\n",
        "for i in range(11):\n",
        "  print(i,end=\" \")"
      ],
      "metadata": {
        "colab": {
          "base_uri": "https://localhost:8080/"
        },
        "id": "oZnQZMx-kg27",
        "outputId": "c1344811-03c3-4b5e-9a2d-6cfa653eae6b"
      },
      "execution_count": 46,
      "outputs": [
        {
          "output_type": "stream",
          "name": "stdout",
          "text": [
            "0 1 2 3 4 5 6 7 8 9 10 "
          ]
        }
      ]
    },
    {
      "cell_type": "code",
      "source": [
        "# Q 13. Write a Python program to find the sum of all even numbers between 1 and 50.\n",
        "sum = 0\n",
        "for i in range(51):\n",
        "  if i % 2 == 0:\n",
        "    sum +=i\n",
        "print(f\"Sum of all even numbers between 1 to 50 is {sum}\")"
      ],
      "metadata": {
        "colab": {
          "base_uri": "https://localhost:8080/"
        },
        "id": "NOJkoNdzlBys",
        "outputId": "1055a104-a98e-4da8-c4b2-d71edb81cc25"
      },
      "execution_count": 48,
      "outputs": [
        {
          "output_type": "stream",
          "name": "stdout",
          "text": [
            "Sum of all even numbers between 1 to 50 is 650\n"
          ]
        }
      ]
    },
    {
      "cell_type": "code",
      "source": [
        "# Q 14. Write a program to reverse a string a while loop.\n",
        "st = input(\"Enter a string to reverse it. \")\n",
        "for i in range(len(st) - 1, -1,-1):\n",
        "  print(st[i],end=\"\")"
      ],
      "metadata": {
        "colab": {
          "base_uri": "https://localhost:8080/"
        },
        "id": "O3TTlIyIlx6B",
        "outputId": "089cc9af-60ff-463b-fb73-b39b785bbacf"
      },
      "execution_count": 52,
      "outputs": [
        {
          "output_type": "stream",
          "name": "stdout",
          "text": [
            "Enter a string to reverse it. atharv\n",
            "vrahta"
          ]
        }
      ]
    },
    {
      "cell_type": "code",
      "source": [
        "# Q 15. Write a Python program to calculate the factorial of a number provided by the user uning a while loop.\n",
        "def factorial_while(n):\n",
        "  if n < 0:\n",
        "    return \"Factorial is not defined for negative numbers.\"\n",
        "  elif n == 0:\n",
        "    return 1\n",
        "  else:\n",
        "    factorial = 1\n",
        "    while n > 1:\n",
        "      factorial *= n\n",
        "      n -= 1\n",
        "    return factorial\n",
        "\n",
        "# Get input from the user\n",
        "num = int(input(\"Enter a number: \"))\n",
        "\n",
        "# Calculate and print the factorial\n",
        "result = factorial_while(num)\n",
        "print(\"The factorial of\", num, \"is\", result)\n"
      ],
      "metadata": {
        "colab": {
          "base_uri": "https://localhost:8080/"
        },
        "id": "-_qCns3mm7R6",
        "outputId": "5d53921e-22f2-4f80-cee7-1bd64a63d599"
      },
      "execution_count": 54,
      "outputs": [
        {
          "output_type": "stream",
          "name": "stdout",
          "text": [
            "Enter a number: 55\n",
            "The factorial of 55 is 12696403353658275925965100847566516959580321051449436762275840000000000000\n"
          ]
        }
      ]
    }
  ]
}